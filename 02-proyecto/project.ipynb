{
 "cells": [
  {
   "cell_type": "markdown",
   "metadata": {},
   "source": [
    "# RAG\n",
    "\n",
    "Para este ejemplo se mejorará el ejemplo que se creó antes ([aquí](../01-rag/rag.ipynb)), se utilizará la misma fuente de información, pero ahora siguiendo el correcto paso a paso de cómo se debería hacer en realidad (ver [aquí](../rag-explanation.md)). Para este caso, utilizaremos la libreria `langchain` con Claude como LLM, y bases de datos de vectores para almacenar la información de los documentos"
   ]
  },
  {
   "cell_type": "markdown",
   "metadata": {},
   "source": [
    "## Importar módulos y todo lo necesario\n",
    "\n",
    "Para el modelo de embedding se puede cambiar a otro en caso de ser necesario"
   ]
  },
  {
   "cell_type": "code",
   "execution_count": 2,
   "metadata": {},
   "outputs": [],
   "source": [
    "# Tipado\n",
    "from langchain_core.prompts import ChatPromptTemplate\n",
    "from langchain_core.documents import Document\n",
    "from langchain_core.messages import AIMessage\n",
    "from typing import TypedDict\n",
    "\n",
    "# LLM\n",
    "from langchain_anthropic import ChatAnthropic\n",
    "\n",
    "# Para el indexing\n",
    "from langchain_community.document_loaders import TextLoader\n",
    "from langchain_text_splitters import RecursiveCharacterTextSplitter\n",
    "from langchain_nomic import NomicEmbeddings\n",
    "from langchain_chroma import Chroma\n",
    "\n",
    "# Para la generación\n",
    "from langchain import hub\n",
    "\n",
    "# Variables de entorno\n",
    "from os import getenv\n",
    "from dotenv import load_dotenv\n",
    "\n",
    "load_dotenv()\n",
    "\n",
    "CLAUDE_API_KEY = getenv(\"CLAUDE_API_KEY\")\n",
    "MODEL_NAME = getenv(\"CLAUDE_MODEL_NAME\")\n",
    "NOMIC_API_KEY = getenv(\"NOMIC_API_KEY\")\n",
    "LANGCHAIN_API_KEY = getenv(\"LANGCHAIN_API_KEY\")\n",
    "\n",
    "CHUNK_SIZE = int(getenv(\"CHUNK_SIZE\"))\n",
    "CHUNK_OVERLAP = int(getenv(\"CHUNK_OVERLAP\"))"
   ]
  },
  {
   "cell_type": "code",
   "execution_count": 14,
   "metadata": {},
   "outputs": [],
   "source": [
    "llm: ChatAnthropic = ChatAnthropic(\n",
    "    api_key=CLAUDE_API_KEY,\n",
    "    model=MODEL_NAME,\n",
    "    temperature=0,\n",
    "    max_tokens=2000,\n",
    ")\n",
    "\n",
    "text_splitter: RecursiveCharacterTextSplitter = RecursiveCharacterTextSplitter(\n",
    "    chunk_size=CHUNK_SIZE, chunk_overlap=CHUNK_OVERLAP\n",
    ")\n",
    "\n",
    "embeddings: NomicEmbeddings = NomicEmbeddings(\n",
    "    model=\"gte-multilingual-base\",\n",
    "    nomic_api_key=NOMIC_API_KEY\n",
    ")\n",
    "\n",
    "vector_store: Chroma = Chroma(embedding_function=embeddings)\n",
    "\n",
    "prompt: ChatPromptTemplate = hub.pull(\"rlm/rag-prompt\", api_key=LANGCHAIN_API_KEY)"
   ]
  },
  {
   "cell_type": "markdown",
   "metadata": {},
   "source": [
    "## Indexación"
   ]
  },
  {
   "cell_type": "markdown",
   "metadata": {},
   "source": [
    "### Document Loader"
   ]
  },
  {
   "cell_type": "code",
   "execution_count": 15,
   "metadata": {},
   "outputs": [],
   "source": [
    "loader: TextLoader = TextLoader(\"./info.md\", \"utf-8\")\n",
    "docs = loader.load()"
   ]
  },
  {
   "cell_type": "markdown",
   "metadata": {},
   "source": [
    "### Text Splitter"
   ]
  },
  {
   "cell_type": "code",
   "execution_count": 16,
   "metadata": {},
   "outputs": [
    {
     "data": {
      "text/plain": [
       "[Document(metadata={'source': './info.md'}, page_content='# NEBULA\\n\\n## Roadmap\\n\\n### Purpose and Scope of the SAD\\n\\nEl SAD tiene como objetivo documentar la arquitectura de Nebula, detallando los componentes estructurales y sus interacciones para cumplir con los requisitos de desarrollo, escalabilidad y seguridad. En este documento se incluye toda la informaci�n sobre la arquitectura de software de Nebula, destacando aquellos aspectos que influyen en el rendimiento y la adaptabilidad del sistema. Las decisiones de dise�o documentadas en el SAD son aquellas que tienen un impacto arquitect�nico relevante en la estructura general del sistema, mientras que los detalles de implementaci�n espec�ficos se documentan en otros informes t�cnicos.\\n\\n### How the SAD Is Organized'),\n",
       " Document(metadata={'source': './info.md'}, page_content='El SAD de Nebula est� estructurado en las siguientes secciones:  \\nSección 1: Documentation Roadmap - Proporciona una visi�n general del SAD, el prop�sito del documento y una gu�a sobre c�mo est� organizado.  \\nSección 2: Antecedentes de la Arquitectura - Explica los objetivos y el contexto de desarrollo de Nebula, los requerimientos que impulsan las decisiones arquitect�nicas y los enfoques de soluci�n adoptados, as� como un resumen de los cambios entre versiones.  \\nSección 3: Vistas de Arquitectura - Presenta diversas vistas de la arquitectura del software (m�dulos, componentes y conectores, y asignaci�n) que detallan la organizaci�n, relaci�n y comportamiento de los elementos en el sistema.  \\nSección 4: Relaciones entre Vistas - Describe c�mo se relacionan e integran las diferentes vistas arquitect�nicas del sistema, proporcionando una visi�n coherente de la arquitectura de Nebula.'),\n",
       " Document(metadata={'source': './info.md'}, page_content='Sección 4: Relaciones entre Vistas - Describe c�mo se relacionan e integran las diferentes vistas arquitect�nicas del sistema, proporcionando una visi�n coherente de la arquitectura de Nebula.  \\nSección 5: Materiales Referenciados - Cita los documentos de referencia y bibliograf�a utilizados en el SAD, proporcionando una base documental para futuras consultas.  \\nSección 6: Directorio - Incluye un �ndice de t�rminos, glosario y lista de acr�nimos, facilitando la navegaci�n y comprensi�n de t�rminos clave empleados en el documento.')]"
      ]
     },
     "execution_count": 16,
     "metadata": {},
     "output_type": "execute_result"
    }
   ],
   "source": [
    "all_splits: list[Document] = text_splitter.split_documents(docs)\n",
    "all_splits[:3]"
   ]
  },
  {
   "cell_type": "markdown",
   "metadata": {},
   "source": [
    "### Vector Store"
   ]
  },
  {
   "cell_type": "code",
   "execution_count": 17,
   "metadata": {},
   "outputs": [],
   "source": [
    "store = vector_store.add_documents(all_splits)"
   ]
  },
  {
   "cell_type": "code",
   "execution_count": 18,
   "metadata": {},
   "outputs": [
    {
     "data": {
      "text/plain": [
       "['5b89c57b-d2d3-4633-bcf9-72cd379d9748',\n",
       " 'eec94f0e-f40e-4420-8ca2-611f8e917824',\n",
       " 'ae7120e6-1923-4809-8ac0-7082729ec5cc']"
      ]
     },
     "execution_count": 18,
     "metadata": {},
     "output_type": "execute_result"
    }
   ],
   "source": [
    "store[:3]"
   ]
  },
  {
   "cell_type": "markdown",
   "metadata": {},
   "source": [
    "## Recuperación y Generación\n",
    "\n",
    "Con `\"rlm/rag-prompt\"`, se está haciendo este prompt al modelo:\n",
    "\n",
    "```\n",
    "You are an assistant for question-answering tasks. Use the following pieces of retrieved context to answer the question. If you don't know the answer, just say that you don't know. Use three sentences maximum and keep the answer concise.\n",
    "Question: {question} \n",
    "Context: {context} \n",
    "Answer:\n",
    "```\n",
    "\n",
    "Ver [esto](https://smith.langchain.com/hub/rlm/rag-prompt) para más info\n",
    "\n",
    "\n",
    "En este caso, para la generación de la respuesta, no se utilizará LangGraph, pero también es posible"
   ]
  },
  {
   "cell_type": "code",
   "execution_count": 21,
   "metadata": {},
   "outputs": [],
   "source": [
    "class State(TypedDict):\n",
    "    question: str\n",
    "    context: list[Document]\n",
    "    answer: str"
   ]
  },
  {
   "cell_type": "code",
   "execution_count": 22,
   "metadata": {},
   "outputs": [],
   "source": [
    "def generate(question: str, return_response: bool = False) -> State | (tuple[State, AIMessage]):\n",
    "    retrieved_docs = vector_store.similarity_search(question)\n",
    "    docs_content = \"<context>\\n\\n\"\n",
    "    docs_content += \"\\n\\n\".join(f\"<context{i+1}>{doc.page_content}</context{i+1}>\" \n",
    "                               for i, doc in enumerate(retrieved_docs))\n",
    "    docs_content += \"\\n\\n</context>\"\n",
    "\n",
    "    message_prompt = {\"question\": question, \"context\": docs_content}\n",
    "    messages = prompt.invoke(message_prompt)\n",
    "    response = llm.invoke(messages)\n",
    "\n",
    "    output = {\n",
    "        \"question\": question,\n",
    "        \"context\": retrieved_docs,\n",
    "        \"answer\": response.content\n",
    "        }\n",
    "    \n",
    "    if not return_response:\n",
    "        return output\n",
    "    \n",
    "    return output, response"
   ]
  },
  {
   "cell_type": "markdown",
   "metadata": {},
   "source": [
    "## Pruebas\n",
    "\n",
    "Aún queda hacer la creación más estrictas de pruebas, y hacer cambios"
   ]
  },
  {
   "cell_type": "code",
   "execution_count": 23,
   "metadata": {},
   "outputs": [],
   "source": [
    "def show_answers(question: str) -> None:\n",
    "    response = generate(question)\n",
    "\n",
    "    print(\"### Question ###\")\n",
    "    print(response[\"question\"])\n",
    "\n",
    "    print(\"\\n\\n### Context ###\")\n",
    "    for i, doc in enumerate(response[\"context\"]):\n",
    "        print(f\"<context{i+1}>\")\n",
    "        print(doc)\n",
    "        print(f\"</context{i+1}>\\n\")\n",
    "\n",
    "    print(\"\\n### Answer ###\")\n",
    "    print(response[\"answer\"])\n"
   ]
  },
  {
   "cell_type": "code",
   "execution_count": 24,
   "metadata": {},
   "outputs": [
    {
     "name": "stdout",
     "output_type": "stream",
     "text": [
      "### Question ###\n",
      "¿Cuáles son los objetivos principales del proyecto Nebula?\n",
      "\n",
      "\n",
      "### Context ###\n",
      "<context1>\n",
      "page_content='Nebula est� dise�ado para ser escalable y modular, permitiendo una f�cil integraci�n de nuevas funcionalidades y mejoras a medida que evolucionen las necesidades de los usuarios.\n",
      "\n",
      "#### Goals and Context\n",
      "\n",
      "##### Objetivos del Proyecto\n",
      "\n",
      "El objetivo principal de Nebula es proporcionar un sistema SaaS accesible y eficiente para la creaci�n y evaluaci�n de modelos de aprendizaje autom�tico, espec�ficamente para tareas de regresi�n y clasificaci�n. La plataforma est� dise�ada para usuarios con diversos niveles de experiencia en ciencia de datos, brindando una experiencia intuitiva y automatizada que permite crear modelos precisos sin necesidad de conocimientos avanzados en machine learning.\n",
      "\n",
      "##### Objetivos Espec�ficos' metadata={'source': './info.md'}\n",
      "</context1>\n",
      "\n",
      "<context2>\n",
      "page_content='### Solution Background\n",
      "\n",
      "#### Architectural Approaches\n",
      "\n",
      "Para garantizar que Nebula cumpla con sus objetivos de rendimiento, escalabilidad y usabilidad, se han adoptado los siguientes enfoques arquitect�nicos:' metadata={'source': './info.md'}\n",
      "</context2>\n",
      "\n",
      "<context3>\n",
      "page_content='##### Contexto del Proyecto\n",
      "\n",
      "Nebula surge en un contexto donde la demanda por herramientas accesibles de machine learning est� en crecimiento. En la actualidad, el uso de machine learning es com�n en sectores como el financiero, sanitario, retail, y de tecnolog�a, donde se requiere tanto la predicci�n de valores continuos (regresi�n) como la clasificaci�n en categor�as.\n",
      "La plataforma busca posicionarse como una herramienta que, adem�s de ser f�cil de usar, brinde un alto grado de flexibilidad y precisi�n. El proyecto utiliza tecnolog�as de desarrollo web modernas (React, FastAPI, PostgreSQL) y herramientas de aprendizaje autom�tico (Scikit-learn), lo cual permite que Nebula mantenga un rendimiento �ptimo y una experiencia de usuario fluida.\n",
      "\n",
      "##### Usuarios Objetivo' metadata={'source': './info.md'}\n",
      "</context3>\n",
      "\n",
      "<context4>\n",
      "page_content='* Machine Learning (ML) Subcampo de la inteligencia artificial que permite a las m�quinas aprender patrones y realizar predicciones sin necesidad de programaci�n expl�cita. Nebula permite la creaci�n y entrenamiento de modelos de ML para tareas de clasificaci�n y regresi�n.\n",
      "* Next.js. Framework de React para la creaci�n de aplicaciones web optimizadas. Se utiliza en Nebula para construir la interfaz de usuario, aprovechando sus capacidades de renderizado en el lado del servidor y la optimizaci�n autom�tica del rendimiento.\n",
      "* PostgreSQL. Sistema de gesti�n de bases de datos relacional que se utiliza para almacenar datos persistentes en Nebula, como los conjuntos de datos cargados por los usuarios y los modelos generados.\n",
      "* Redis. Sistema de almacenamiento en cach� en memoria que se usa para mejorar el rendimiento del backend, especialmente en la gesti�n de sesiones de usuarios en Nebula.' metadata={'source': './info.md'}\n",
      "</context4>\n",
      "\n",
      "\n",
      "### Answer ###\n",
      "Los principales objetivos del proyecto Nebula son:\n",
      "\n",
      "1. Proporcionar un sistema SaaS accesible y eficiente para la creación y evaluación de modelos de aprendizaje automático, específicamente para tareas de regresión y clasificación.\n",
      "2. Brindar una experiencia intuitiva y automatizada que permita a usuarios con diversos niveles de experiencia en ciencia de datos crear modelos precisos sin necesidad de conocimientos avanzados en machine learning.\n",
      "3. Garantizar la escalabilidad y modularidad de la plataforma, permitiendo la fácil integración de nuevas funcionalidades y mejoras a medida que evolucionen las necesidades de los usuarios.\n"
     ]
    }
   ],
   "source": [
    "show_answers(\"¿Cuáles son los objetivos principales del proyecto Nebula?\")"
   ]
  },
  {
   "cell_type": "code",
   "execution_count": 25,
   "metadata": {},
   "outputs": [
    {
     "name": "stdout",
     "output_type": "stream",
     "text": [
      "### Question ###\n",
      "Qué tecnologías se tuvieron en cuenta para Nebula?\n",
      "\n",
      "\n",
      "### Context ###\n",
      "<context1>\n",
      "page_content='* Redis. Sistema de almacenamiento en cach� en memoria que se usa para mejorar el rendimiento del backend, especialmente en la gesti�n de sesiones de usuarios en Nebula.\n",
      "* Scikit-learn. Biblioteca de Python para la creaci�n y entrenamiento de modelos de machine learning. En Nebula, se utiliza para entrenar y evaluar modelos de regresi�n y clasificaci�n.\n",
      "* Zustand. Librer�a de gesti�n de estado para aplicaciones React que permite gestionar de manera eficiente el estado global de la aplicaci�n en Nebula sin necesidad de pasar datos a trav�s de propiedades entre componentes.\n",
      "* Docker. Plataforma para el desarrollo, env�o y ejecuci�n de aplicaciones en contenedores. Se utiliza en Nebula para garantizar que los componentes del sistema funcionen de manera consistente en diferentes entornos.' metadata={'source': './info.md'}\n",
      "</context1>\n",
      "\n",
      "<context2>\n",
      "page_content='### Solution Background\n",
      "\n",
      "#### Architectural Approaches\n",
      "\n",
      "Para garantizar que Nebula cumpla con sus objetivos de rendimiento, escalabilidad y usabilidad, se han adoptado los siguientes enfoques arquitect�nicos:' metadata={'source': './info.md'}\n",
      "</context2>\n",
      "\n",
      "<context3>\n",
      "page_content='#### Summary of Background Changes Reflected in Current Version\n",
      "\n",
      "Desde la versi�n inicial, Nebula ha experimentado una serie de mejoras arquitect�nicas y funcionales, en gran parte centradas en la optimizaci�n de la experiencia de usuario en el frontend, la integraci�n efectiva con el backend y el aseguramiento de una arquitectura escalable y eficiente. Estos cambios incluyen:' metadata={'source': './info.md'}\n",
      "</context3>\n",
      "\n",
      "<context4>\n",
      "page_content='* Machine Learning (ML) Subcampo de la inteligencia artificial que permite a las m�quinas aprender patrones y realizar predicciones sin necesidad de programaci�n expl�cita. Nebula permite la creaci�n y entrenamiento de modelos de ML para tareas de clasificaci�n y regresi�n.\n",
      "* Next.js. Framework de React para la creaci�n de aplicaciones web optimizadas. Se utiliza en Nebula para construir la interfaz de usuario, aprovechando sus capacidades de renderizado en el lado del servidor y la optimizaci�n autom�tica del rendimiento.\n",
      "* PostgreSQL. Sistema de gesti�n de bases de datos relacional que se utiliza para almacenar datos persistentes en Nebula, como los conjuntos de datos cargados por los usuarios y los modelos generados.\n",
      "* Redis. Sistema de almacenamiento en cach� en memoria que se usa para mejorar el rendimiento del backend, especialmente en la gesti�n de sesiones de usuarios en Nebula.' metadata={'source': './info.md'}\n",
      "</context4>\n",
      "\n",
      "\n",
      "### Answer ###\n",
      "De acuerdo a la información proporcionada, algunas de las tecnologías que se tuvieron en cuenta para Nebula son:\n",
      "\n",
      "1. Redis, un sistema de almacenamiento en caché en memoria utilizado para mejorar el rendimiento del backend, especialmente en la gestión de sesiones de usuarios.\n",
      "2. Scikit-learn, una biblioteca de Python para la creación y entrenamiento de modelos de machine learning, utilizada en Nebula para entrenar y evaluar modelos de regresión y clasificación.\n",
      "3. Docker, una plataforma para el desarrollo, envío y ejecución de aplicaciones en contenedores, utilizada en Nebula para garantizar la consistencia de los componentes del sistema en diferentes entornos.\n"
     ]
    }
   ],
   "source": [
    "show_answers(\"Qué tecnologías se tuvieron en cuenta para Nebula?\")"
   ]
  },
  {
   "cell_type": "code",
   "execution_count": 26,
   "metadata": {},
   "outputs": [
    {
     "name": "stdout",
     "output_type": "stream",
     "text": [
      "### Question ###\n",
      "Para qué sirvió el SAD en Nebula?\n",
      "\n",
      "\n",
      "### Context ###\n",
      "<context1>\n",
      "page_content='# NEBULA\n",
      "\n",
      "## Roadmap\n",
      "\n",
      "### Purpose and Scope of the SAD\n",
      "\n",
      "El SAD tiene como objetivo documentar la arquitectura de Nebula, detallando los componentes estructurales y sus interacciones para cumplir con los requisitos de desarrollo, escalabilidad y seguridad. En este documento se incluye toda la informaci�n sobre la arquitectura de software de Nebula, destacando aquellos aspectos que influyen en el rendimiento y la adaptabilidad del sistema. Las decisiones de dise�o documentadas en el SAD son aquellas que tienen un impacto arquitect�nico relevante en la estructura general del sistema, mientras que los detalles de implementaci�n espec�ficos se documentan en otros informes t�cnicos.\n",
      "\n",
      "### How the SAD Is Organized' metadata={'source': './info.md'}\n",
      "</context1>\n",
      "\n",
      "<context2>\n",
      "page_content='El SAD de Nebula est� estructurado en las siguientes secciones:  \n",
      "Sección 1: Documentation Roadmap - Proporciona una visi�n general del SAD, el prop�sito del documento y una gu�a sobre c�mo est� organizado.  \n",
      "Sección 2: Antecedentes de la Arquitectura - Explica los objetivos y el contexto de desarrollo de Nebula, los requerimientos que impulsan las decisiones arquitect�nicas y los enfoques de soluci�n adoptados, as� como un resumen de los cambios entre versiones.  \n",
      "Sección 3: Vistas de Arquitectura - Presenta diversas vistas de la arquitectura del software (m�dulos, componentes y conectores, y asignaci�n) que detallan la organizaci�n, relaci�n y comportamiento de los elementos en el sistema.  \n",
      "Sección 4: Relaciones entre Vistas - Describe c�mo se relacionan e integran las diferentes vistas arquitect�nicas del sistema, proporcionando una visi�n coherente de la arquitectura de Nebula.' metadata={'source': './info.md'}\n",
      "</context2>\n",
      "\n",
      "<context3>\n",
      "page_content='### Stakeholder Representation\n",
      "\n",
      "Esta secci�n describe los stakeholders de Nebula y sus principales preocupaciones, organizando el SAD para responder a las necesidades de cada uno. Entre los stakeholders considerados estan:\n",
      "\n",
      "* Usuarios.\n",
      "* Desarrolladores.\n",
      "* Administradores del sistema.\n",
      "* Gerentes de proyecto.\n",
      "* Analistas de datos.\n",
      "\n",
      "La estructura y contenido del SAD aseguran que cada stakeholder pueda acceder f�cilmente a la informaci�n relevante para sus intereses espec�ficos.\n",
      "\n",
      "### Viewpoint Definitions\n",
      "\n",
      "Para abordar de manera efectiva los intereses de los stakeholders, se han seleccionado diferentes puntos de vista arquitect�nicos, que se desarrollan en la Secci�n 3. Estos puntos de vista permiten entender la arquitectura de Nebula desde distintas perspectivas, como la estructura de m�dulos, la interacci�n de componentes y la asignaci�n de recursos. Cada vista facilita el an�lisis de aspectos espec�ficos del sistema y permite una representaci�n detallada de la arquitectura.' metadata={'source': './info.md'}\n",
      "</context3>\n",
      "\n",
      "<context4>\n",
      "page_content='Sección 4: Relaciones entre Vistas - Describe c�mo se relacionan e integran las diferentes vistas arquitect�nicas del sistema, proporcionando una visi�n coherente de la arquitectura de Nebula.  \n",
      "Sección 5: Materiales Referenciados - Cita los documentos de referencia y bibliograf�a utilizados en el SAD, proporcionando una base documental para futuras consultas.  \n",
      "Sección 6: Directorio - Incluye un �ndice de t�rminos, glosario y lista de acr�nimos, facilitando la navegaci�n y comprensi�n de t�rminos clave empleados en el documento.' metadata={'source': './info.md'}\n",
      "</context4>\n",
      "\n",
      "\n",
      "### Answer ###\n",
      "Desafortunadamente, no puedo encontrar información específica sobre el propósito del SAD (Software Architecture Document) en Nebula en los contextos proporcionados. Los contextos describen la estructura y organización general del SAD, pero no mencionan cómo se utilizó específicamente en Nebula. Por lo tanto, no puedo dar una respuesta concreta a la pregunta \"Para qué sirvió el SAD en Nebula?\".\n"
     ]
    }
   ],
   "source": [
    "show_answers(\"Para qué sirvió el SAD en Nebula?\")"
   ]
  },
  {
   "cell_type": "code",
   "execution_count": null,
   "metadata": {},
   "outputs": [],
   "source": []
  }
 ],
 "metadata": {
  "kernelspec": {
   "display_name": ".venv",
   "language": "python",
   "name": "python3"
  },
  "language_info": {
   "codemirror_mode": {
    "name": "ipython",
    "version": 3
   },
   "file_extension": ".py",
   "mimetype": "text/x-python",
   "name": "python",
   "nbconvert_exporter": "python",
   "pygments_lexer": "ipython3",
   "version": "3.12.6"
  }
 },
 "nbformat": 4,
 "nbformat_minor": 2
}
